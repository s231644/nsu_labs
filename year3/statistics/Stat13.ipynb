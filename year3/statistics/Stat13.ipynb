{
 "cells": [
  {
   "cell_type": "markdown",
   "metadata": {},
   "source": [
    "# Часть 1\n",
    "\n",
    "Для выборки объема 50. Предполагая, что она взята из нормального распределения $N_{a,σ^2}$,\n",
    "1. Построить точный доверительный интервал уровня доверия $1−\\varepsilon$\n",
    "    * для параметра $a$ при известном $σ^2$.\n",
    "\n",
    "    * для параметра $a$ при неизвестном $σ^2$.\n",
    "\n",
    "    * для параметра $σ^2$ при известном $a$.\n",
    "\n",
    "    * для параметра $σ^2$ при неизвестном $a$.\n",
    "\n",
    "2. Считая первые 20 чисел (2 строки) и следующие 30 чисел (3 строки) двумя независимыми выборками из нормального распределения, проверить гипотезу однородности (по критериям Фишера и Стьюдента)."
   ]
  },
  {
   "cell_type": "code",
   "execution_count": 3,
   "metadata": {},
   "outputs": [],
   "source": [
    "import numpy as np\n",
    "import scipy\n",
    "from scipy import stats\n",
    "\n",
    "import matplotlib\n",
    "import matplotlib.pyplot as plt\n",
    "%matplotlib inline"
   ]
  },
  {
   "cell_type": "code",
   "execution_count": 21,
   "metadata": {},
   "outputs": [],
   "source": [
    "a = 1.0\n",
    "sigma2 = 0.5\n",
    "eps = 0.13\n",
    "n = 50"
   ]
  },
  {
   "cell_type": "code",
   "execution_count": 23,
   "metadata": {},
   "outputs": [],
   "source": [
    "data1 = [\n",
    "    0.159, -0.085, 0.067, 2.318, 1.636, 0.336, 1.652, 0.552, 1.188, 0.364,\n",
    "    0.395, -0.076, 0.653, 1.223, 1.501, 0.739, 0.642, 0.770, 0.987, 0.243,\n",
    "    \n",
    "    0.545, 1.148, 0.693, 1.496, 0.973, 2.051, 1.230, 1.743, 0.700, 1.030,\n",
    "    0.761, 2.822, 0.953, 0.534, 1.430, 0.751, 0.813, 1.788, 0.480, 0.430,\n",
    "    1.810, 0.811, 1.280, 1.859, 0.882, 0.665, 1.381, 1.670, 0.173, 0.432\n",
    "]\n",
    "\n",
    "data1 = np.array(data1)"
   ]
  },
  {
   "cell_type": "markdown",
   "metadata": {},
   "source": [
    "для параметра $a$ при известном $σ^2$\n",
    "\n",
    "$\\frac{\\sqrt{n} \\left(\\overline{X} - a\\right)}{\\sigma}  \\in  N_{0,1}$\n",
    "\n",
    "$P(-\\tau_{1 - \\frac{\\varepsilon}{2}} < \\frac{\\sqrt{n}\\left(\\overline{X} - a\\right)}{\\sigma} < \\tau_{1 - \\frac{\\varepsilon}{2}}) = 1-\\varepsilon \\rightarrow P(\\overline{X} - \\sigma\\frac{\\tau_{1 - \\frac{\\varepsilon}{2}}}{\\sqrt{n}} < a < \\overline{X} + \\sigma\\frac{\\tau_{1 - \\frac{\\varepsilon}2}}{\\sqrt{n}}) = 1 -\\varepsilon\n",
    "$"
   ]
  },
  {
   "cell_type": "code",
   "execution_count": 24,
   "metadata": {},
   "outputs": [
    {
     "name": "stdout",
     "output_type": "stream",
     "text": [
      "confidence interval: (0.8205498112380716, 1.1233701887619283)\n"
     ]
    }
   ],
   "source": [
    "X_mean = np.mean(data1)\n",
    "tau = np.abs(stats.norm.ppf(1 - eps / 2))\n",
    "bias = tau * np.sqrt(sigma2) / np.sqrt(n)\n",
    "left = X_mean - bias\n",
    "right = X_mean + bias\n",
    "print('confidence interval: ({},' ' {})'.format(left, right))"
   ]
  },
  {
   "cell_type": "markdown",
   "metadata": {},
   "source": [
    "для параметра $a$ при неизвестном $σ^2$"
   ]
  },
  {
   "cell_type": "markdown",
   "metadata": {},
   "source": [
    "$\\frac{\\sqrt{n}\\left(\\overline{X} - a\\right)}{S_{0}} \\in T_{n-1}$\n",
    "\n",
    "$P(-\\tau_{1 - \\frac{\\varepsilon}{2}} < \\frac{\\sqrt{n}(\\overline{X} - a)}{S_{0}}  < \\tau_{1 - \\frac{\\varepsilon}{2}}) = 1-\\varepsilon \\rightarrow P(\\overline{X} - S_0\\frac{\\tau_{1 - \\frac{\\varepsilon}{2}}}{\\sqrt{n}} < a < \\overline{X} + S_0\\frac{\\tau_{1 - \\frac{\\varepsilon}{2}}}{\\sqrt{n}}) = 1 -\\varepsilon$"
   ]
  },
  {
   "cell_type": "code",
   "execution_count": 25,
   "metadata": {},
   "outputs": [
    {
     "name": "stdout",
     "output_type": "stream",
     "text": [
      "confidence interval: (0.8334121361083036, 1.1105078638916963)\n"
     ]
    }
   ],
   "source": [
    "S0 = np.std(data1) * (np.sqrt(n) / np.sqrt(n - 1))\n",
    "tau = np.abs(stats.t.ppf(df = n - 1, q = 1 - eps / 2))\n",
    "bias = tau * S0 / np.sqrt(n)\n",
    "left = X_mean - bias\n",
    "right = X_mean + bias\n",
    "print('confidence interval: ({},' ' {})'.format(left, right))"
   ]
  },
  {
   "cell_type": "markdown",
   "metadata": {},
   "source": [
    "для параметра $σ^2$ при известном $a$"
   ]
  },
  {
   "cell_type": "markdown",
   "metadata": {},
   "source": [
    "$S_1^2 = \\frac{1}{n}\\sum_{i=1}^n(X_i - a)^2, \\, \\frac{n S_1^2}{\\sigma^2} \\in \\chi_n^2$\n",
    "\n",
    "$P( \\frac{nS_1^2}{\\tau_{1 - \\frac{\\varepsilon}{2}}} < {\\sigma^2} < \\frac{nS_1^2}{\\tau_{\\frac{\\varepsilon}{2}}}) = 1-\\varepsilon$"
   ]
  },
  {
   "cell_type": "code",
   "execution_count": 28,
   "metadata": {},
   "outputs": [
    {
     "name": "stdout",
     "output_type": "stream",
     "text": [
      "confidence interval: (0.30141703571811557, 0.5550576706411183)\n"
     ]
    }
   ],
   "source": [
    "S1 = ((data1 - a) ** 2).sum()\n",
    "q1 = stats.chi2(df = n).ppf(1 - eps / 2)\n",
    "q2 = stats.chi2(df = n).ppf(eps / 2)\n",
    "left = S1 / q1\n",
    "right = S1 / q2\n",
    "print('confidence interval: ({},' ' {})'.format(left, right))"
   ]
  },
  {
   "cell_type": "markdown",
   "metadata": {},
   "source": [
    "для параметра $σ^2$ при неизвестном $a$"
   ]
  },
  {
   "cell_type": "markdown",
   "metadata": {},
   "source": [
    "$\\frac{(n-1)S_0^2}{\\sigma^2} \\in \\chi_{n-1}^2$\n",
    "\n",
    "$P(\\frac{(n-1)S_0^2}{\\tau_{1 - \\frac{\\varepsilon}{2}}} < \\sigma^2 < \\frac{(n-1)S_0^2}{\\tau_{\\frac{\\varepsilon}{2}}}) =  P(\\frac{nS^2}{\\tau_{1 - \\frac{\\varepsilon}{2}}} < \\sigma^2 < \\frac{nS^2}{\\tau_{1 - \\frac{\\varepsilon}{2}}})= 1-\\varepsilon$"
   ]
  },
  {
   "cell_type": "code",
   "execution_count": 29,
   "metadata": {},
   "outputs": [
    {
     "name": "stdout",
     "output_type": "stream",
     "text": [
      "confidence interval: (0.30617585552715576, 0.5673850227811591)\n"
     ]
    }
   ],
   "source": [
    "S = np.std(data1) ** 2\n",
    "q1 = stats.chi2(df = n - 1).ppf(1 - eps / 2)\n",
    "q2 = stats.chi2(df = n - 1).ppf(eps / 2)\n",
    "left = n * S / q1\n",
    "right = n * S / q2\n",
    "print('confidence interval: ({},' ' {})'.format(left, right))"
   ]
  },
  {
   "cell_type": "code",
   "execution_count": null,
   "metadata": {},
   "outputs": [],
   "source": []
  },
  {
   "cell_type": "markdown",
   "metadata": {},
   "source": [
    " Критерий Фишера предназначен для проверки гипотезы $H_0 = \\{\\sigma_1 = \\sigma_2\\}$.\n"
   ]
  },
  {
   "cell_type": "markdown",
   "metadata": {},
   "source": [
    "$\\rho(\\vec{X}, \\vec{Y}) = \\frac{S_0^2(\\vec{X})}{S_0^2(\\vec{Y})} \\in F_{n-1, m-1}$. Удобно, когда $\\rho > 1$.\n",
    "\n",
    "\n",
    "$\\delta(\\vec{X}, \\vec{Y}) = 0$, если $\\rho(\\vec{X}, \\vec{Y}) < f_{1 - \\varepsilon}$, и $1$ иначе.\n"
   ]
  },
  {
   "cell_type": "code",
   "execution_count": 30,
   "metadata": {},
   "outputs": [],
   "source": [
    "subdata1 = data1[:20]\n",
    "n1 = 20\n",
    "subdata2 = data1[20:]\n",
    "n2 = 30\n",
    "\n",
    "s1 = n1 / (n1 - 1) * np.std(subdata1) ** 2\n",
    "s2 = n2 / (n2 - 1) * np.std(subdata2) ** 2\n",
    "\n",
    "if(s1 < s2):\n",
    "    first, second = second, first\n",
    "    n1, n2 = n2, n1\n",
    "    s1, s2 = s2, s1\n",
    "res = s1 / s2"
   ]
  },
  {
   "cell_type": "code",
   "execution_count": 31,
   "metadata": {},
   "outputs": [
    {
     "data": {
      "text/plain": [
       "1.1894024512385928"
      ]
     },
     "execution_count": 31,
     "metadata": {},
     "output_type": "execute_result"
    }
   ],
   "source": [
    "res"
   ]
  },
  {
   "cell_type": "code",
   "execution_count": 37,
   "metadata": {},
   "outputs": [
    {
     "data": {
      "text/plain": [
       "1.5801359789463199"
      ]
     },
     "execution_count": 37,
     "metadata": {},
     "output_type": "execute_result"
    }
   ],
   "source": [
    "stats.f(n1 - 1, n2 - 1).ppf(1 - eps)"
   ]
  },
  {
   "cell_type": "code",
   "execution_count": 39,
   "metadata": {},
   "outputs": [
    {
     "name": "stdout",
     "output_type": "stream",
     "text": [
      "приняли\n"
     ]
    }
   ],
   "source": [
    "if(res < stats.f(n1 - 1, n2 - 1).ppf(1 - eps)):\n",
    "    print('приняли')\n",
    "else:\n",
    "    print('отвергли')"
   ]
  },
  {
   "cell_type": "code",
   "execution_count": null,
   "metadata": {},
   "outputs": [],
   "source": []
  },
  {
   "cell_type": "markdown",
   "metadata": {},
   "source": [
    "Проверяется сложная гипотеза $H_0 = \\{a_1 = a_2\\}$\n",
    "\n",
    "$\\rho(\\vec{X},\\vec{Y}) = \\sqrt{\\frac{nm}{n+m}} \\frac{\\overline{X} - \\overline{Y}}{\\sqrt{\\frac{(n - 1)S_0^2(\\vec{X})+(m - 1)S_0^2(\\vec{Y})}{n+m-2}}}$\n",
    "\n",
    "$\\delta(\\vec{X}, \\vec{Y})$ отвергает $H_0$, если  $|\\rho(\\vec{X}, \\vec{Y})|  > \\tau_{1 - \\frac{\\varepsilon}{2}}$ --- квантиль соответствующего уровня распределения $T_{n+m-2}$"
   ]
  },
  {
   "cell_type": "code",
   "execution_count": 42,
   "metadata": {},
   "outputs": [
    {
     "name": "stdout",
     "output_type": "stream",
     "text": [
      "отвергли\n"
     ]
    }
   ],
   "source": [
    "s01 = s1 * (n1 - 1)\n",
    "s02 = s2 * (n2 - 1)\n",
    "rho = np.sqrt(n1 * n2 / (n1 + n2)) * (np.mean(subdata1) - np.mean(subdata2)) / np.sqrt((s01 + s02) / (n1 + n2 - 2))\n",
    "if(abs(rho) < stats.t(n1 + n2 - 2).ppf(1 - eps / 2)):\n",
    "    print('приняли')\n",
    "else:\n",
    "    print('отвергли')"
   ]
  },
  {
   "cell_type": "code",
   "execution_count": 43,
   "metadata": {},
   "outputs": [
    {
     "data": {
      "text/plain": [
       "1.94786077339211"
      ]
     },
     "execution_count": 43,
     "metadata": {},
     "output_type": "execute_result"
    }
   ],
   "source": [
    "abs(rho)"
   ]
  },
  {
   "cell_type": "code",
   "execution_count": 44,
   "metadata": {},
   "outputs": [
    {
     "data": {
      "text/plain": [
       "1.5405236630149093"
      ]
     },
     "execution_count": 44,
     "metadata": {},
     "output_type": "execute_result"
    }
   ],
   "source": [
    "stats.t(n1 + n2 - 2).ppf(1 - eps / 2)"
   ]
  },
  {
   "cell_type": "markdown",
   "metadata": {},
   "source": [
    "# Часть 2.\n",
    "Дана выборка объема 30 из неизвестного распределения.\n",
    "1. Построить эмпирическую функцию распределения и гистограмму.\n",
    "2. Проверить по критерию Колмогорова гипотезу о том, что выборка взята из равномерного распределения. Найти реально достигнутый уровень значимости.\n",
    "3. Проверить ту же гипотезу по критерию $\\chi^2$. Найти реально достигнутый уровень значимости."
   ]
  },
  {
   "cell_type": "code",
   "execution_count": 45,
   "metadata": {},
   "outputs": [],
   "source": [
    "data2 = [\n",
    "    0.196, 0.004, 0.891, 0.431, 0.248, 0.141, 0.079, 0.503, 0.361, 0.990,\n",
    "    0.274, 0.792, 0.241, 0.881, 0.837, 0.420, 0.829, 0.968, 0.554, 0.137,\n",
    "    0.733, 0.345, 0.896, 0.069, 0.160, 0.627, 0.616, 0.116, 0.068, 0.666\n",
    "]\n",
    "\n",
    "data2 = np.array(data2)"
   ]
  },
  {
   "cell_type": "markdown",
   "metadata": {},
   "source": [
    "## Построить эмпирическую функцию распределения и гистограмму."
   ]
  },
  {
   "cell_type": "code",
   "execution_count": 82,
   "metadata": {},
   "outputs": [],
   "source": [
    "def empirical_cdf(samples):\n",
    "    samples = np.sort(samples)\n",
    "    n = len(samples)\n",
    "    plt.figure(figsize=(8, 8))\n",
    "    values_sample = np.unique(samples, return_counts=True)\n",
    "    \n",
    "    x_arr = np.array(values_sample[0])\n",
    "    y_arr = values_sample[1] / n\n",
    "    y_arr = np.cumsum(y_arr)\n",
    "    \n",
    "    if 0 not in x_arr:\n",
    "        x_arr = np.hstack(([0], x_arr))\n",
    "        y_arr = np.hstack(([0], y_arr))\n",
    "    \n",
    "    if 1 not in x_arr:\n",
    "        x_arr = np.hstack((x_arr, [1]))\n",
    "        y_arr = np.hstack((y_arr, [1]))\n",
    "    \n",
    "    plt.step(x_arr, y_arr, where='post', label='Empirical cdf')\n",
    "    plt.xlabel('x')\n",
    "    plt.legend()"
   ]
  },
  {
   "cell_type": "code",
   "execution_count": 83,
   "metadata": {},
   "outputs": [
    {
     "data": {
      "image/png": "[encoded data removed]",
      "text/plain": [
       "<matplotlib.figure.Figure at 0x7fd09858b710>"
      ]
     },
     "metadata": {},
     "output_type": "display_data"
    }
   ],
   "source": [
    "empirical_cdf(data2)"
   ]
  },
  {
   "cell_type": "code",
   "execution_count": 92,
   "metadata": {},
   "outputs": [],
   "source": [
    "hist, bin_edges = np.histogram(data2, density=True)"
   ]
  },
  {
   "cell_type": "code",
   "execution_count": 102,
   "metadata": {},
   "outputs": [
    {
     "data": {
      "image/png": "[encoded data removed]",
      "text/plain": [
       "<matplotlib.figure.Figure at 0x7fd096290d30>"
      ]
     },
     "metadata": {},
     "output_type": "display_data"
    }
   ],
   "source": [
    "plt.hist(sorted(data2), bins='auto', density=True)  # arguments are passed to np.histogram\n",
    "plt.title(\"Histogram with 'auto' bins\")\n",
    "plt.show()"
   ]
  },
  {
   "cell_type": "code",
   "execution_count": null,
   "metadata": {},
   "outputs": [],
   "source": []
  },
  {
   "cell_type": "markdown",
   "metadata": {},
   "source": [
    "## Проверить по критерию Колмогорова гипотезу о том, что выборка взята из равномерного распределения. Найти реально достигнутый уровень значимости."
   ]
  },
  {
   "cell_type": "markdown",
   "metadata": {},
   "source": [
    "$\\rho(\\vec{X}) = \\sqrt{n} \\ sup_y  \\ |F_{n}^*(y) - F(y)| \\Rightarrow \\eta \\in K(y)$\n",
    "\n",
    "\n",
    "$\\delta(\\vec{X}) = H_1$, если $\\rho(\\vec{X}) < C$, и $H_2$ иначе."
   ]
  },
  {
   "cell_type": "code",
   "execution_count": null,
   "metadata": {},
   "outputs": [],
   "source": []
  },
  {
   "cell_type": "code",
   "execution_count": 107,
   "metadata": {},
   "outputs": [],
   "source": [
    "def kolm_rho(samples):\n",
    "    samples = np.sort(samples)\n",
    "    n = len(samples)\n",
    "    values_sample = np.unique(samples, return_counts=True)\n",
    "    \n",
    "    x_arr = np.array(values_sample[0])\n",
    "    y_arr = values_sample[1] / n\n",
    "    y_arr = np.cumsum(y_arr)\n",
    "    \n",
    "    if 0 not in x_arr:\n",
    "        x_arr = np.hstack(([0], x_arr))\n",
    "        y_arr = np.hstack(([0], y_arr))\n",
    "    \n",
    "    if 1 not in x_arr:\n",
    "        x_arr = np.hstack((x_arr, [1]))\n",
    "        y_arr = np.hstack((y_arr, [1]))\n",
    "        \n",
    "    return np.sqrt(n) * np.max(np.abs(y_arr - x_arr))"
   ]
  },
  {
   "cell_type": "markdown",
   "metadata": {},
   "source": [
    "http://smc.edu.nstu.ru/krit_kolm.htm"
   ]
  },
  {
   "cell_type": "code",
   "execution_count": 109,
   "metadata": {},
   "outputs": [
    {
     "data": {
      "text/plain": [
       "0.690130422456509"
      ]
     },
     "execution_count": 109,
     "metadata": {},
     "output_type": "execute_result"
    }
   ],
   "source": [
    "kolm_rho(data2)"
   ]
  },
  {
   "cell_type": "code",
   "execution_count": 108,
   "metadata": {},
   "outputs": [
    {
     "name": "stdout",
     "output_type": "stream",
     "text": [
      "приняли\n"
     ]
    }
   ],
   "source": [
    "C = 1.25\n",
    "\n",
    "if kolm_rho(data2) < C:\n",
    "    print('приняли')\n",
    "else:\n",
    "    print('отвергли')"
   ]
  },
  {
   "cell_type": "markdown",
   "metadata": {},
   "source": [
    "$РДУЗ = P(\\eta \\geq \\rho)$"
   ]
  },
  {
   "cell_type": "markdown",
   "metadata": {},
   "source": [
    "0,7278"
   ]
  },
  {
   "cell_type": "code",
   "execution_count": null,
   "metadata": {},
   "outputs": [],
   "source": []
  },
  {
   "cell_type": "markdown",
   "metadata": {},
   "source": [
    "## Проверить ту же гипотезу по критерию $\\chi^2$. Найти реально достигнутый уровень значимости."
   ]
  },
  {
   "cell_type": "markdown",
   "metadata": {},
   "source": [
    "$ \\rho(\\vec{X}) = \\sum_{j=1}^{k} \\frac{(\\nu_j -  np_j)^2}{np_j} \\Rightarrow H_{k-1}$\n",
    "\n",
    "$\\delta(\\vec{X}) = H_1$, если $\\rho(\\vec{X}) < C$, и $H_2$ иначе."
   ]
  },
  {
   "cell_type": "code",
   "execution_count": 115,
   "metadata": {},
   "outputs": [],
   "source": [
    "def chi2_rho(samples, bins):   \n",
    "    p_arr = []\n",
    "    for i in range(len(bins)-1):\n",
    "        p_arr += [bins[i + 1] - bins[i]]\n",
    "    p_arr = np.array(p_arr)\n",
    "    \n",
    "    samples = np.sort(samples)\n",
    "    n = len(samples)\n",
    "    nu_arr = np.zeros(len(p_arr))\n",
    "    \n",
    "    for i in range (len(samples)):\n",
    "        for j in range(len(bins) - 1):\n",
    "            if(bins[j] <= samples[i] and samples[i] < bins[j + 1]):\n",
    "                nu_arr[j] += 1\n",
    "    \n",
    "    res = (nu_arr - p_arr * n) ** 2\n",
    "    res = res / (p_arr * n)\n",
    "    \n",
    "    return np.sum(res)"
   ]
  },
  {
   "cell_type": "code",
   "execution_count": 120,
   "metadata": {},
   "outputs": [
    {
     "name": "stdout",
     "output_type": "stream",
     "text": [
      "C =  37.66362548085294\n"
     ]
    }
   ],
   "source": [
    "chi2 = stats.chi2(df=29).ppf(1 - eps)\n",
    "C = chi2\n",
    "print('C = ', C)"
   ]
  },
  {
   "cell_type": "code",
   "execution_count": 142,
   "metadata": {},
   "outputs": [],
   "source": [
    "borders = np.linspace(0.0, 1.0, num=10)"
   ]
  },
  {
   "cell_type": "code",
   "execution_count": 146,
   "metadata": {},
   "outputs": [
    {
     "data": {
      "text/plain": [
       "3.599999999999998"
      ]
     },
     "execution_count": 146,
     "metadata": {},
     "output_type": "execute_result"
    }
   ],
   "source": [
    "rho_ = chi2_rho(data2, borders)\n",
    "rho_"
   ]
  },
  {
   "cell_type": "code",
   "execution_count": 144,
   "metadata": {},
   "outputs": [
    {
     "name": "stdout",
     "output_type": "stream",
     "text": [
      "приняли\n"
     ]
    }
   ],
   "source": [
    "if chi2_rho(data2, borders) < C:\n",
    "    print('приняли')\n",
    "else:\n",
    "    print('отвергли')  "
   ]
  },
  {
   "cell_type": "markdown",
   "metadata": {},
   "source": [
    "$РДУЗ = P(\\eta \\geq \\rho) = 1 - F(\\rho)$"
   ]
  },
  {
   "cell_type": "code",
   "execution_count": 147,
   "metadata": {},
   "outputs": [
    {
     "data": {
      "text/plain": [
       "0.9999999971942012"
      ]
     },
     "execution_count": 147,
     "metadata": {},
     "output_type": "execute_result"
    }
   ],
   "source": [
    "1 - stats.chi2(df=29).cdf(rho_)"
   ]
  },
  {
   "cell_type": "code",
   "execution_count": null,
   "metadata": {},
   "outputs": [],
   "source": []
  }
 ],
 "metadata": {
  "kernelspec": {
   "display_name": "Python 3",
   "language": "python",
   "name": "python3"
  },
  "language_info": {
   "codemirror_mode": {
    "name": "ipython",
    "version": 3
   },
   "file_extension": ".py",
   "mimetype": "text/x-python",
   "name": "python",
   "nbconvert_exporter": "python",
   "pygments_lexer": "ipython3",
   "version": "3.6.4"
  }
 },
 "nbformat": 4,
 "nbformat_minor": 2
}
